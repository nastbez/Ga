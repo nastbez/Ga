{
  "nbformat": 4,
  "nbformat_minor": 0,
  "metadata": {
    "colab": {
      "provenance": [],
      "authorship_tag": "ABX9TyPYF5yTgdTj256Kumc4uuwg"
    },
    "kernelspec": {
      "name": "python3",
      "display_name": "Python 3"
    },
    "language_info": {
      "name": "python"
    }
  },
  "cells": [
    {
      "cell_type": "code",
      "execution_count": null,
      "metadata": {
        "id": "a1sjy3Mj6JfQ"
      },
      "outputs": [],
      "source": []
    },
    {
      "cell_type": "markdown",
      "source": [
        "#a)\tsum(n) = n + sum(n-1) – бесконечная рекурсивная функция"
      ],
      "metadata": {
        "id": "SPlM1HhK6RVn"
      }
    },
    {
      "cell_type": "code",
      "source": [
        "def recyrs(n):\n",
        "    return (n + recyrs(n-1))\n",
        "print(recyrs(5))"
      ],
      "metadata": {
        "colab": {
          "base_uri": "https://localhost:8080/",
          "height": 355
        },
        "id": "ywhsNC496UMk",
        "outputId": "a73517c1-11d3-432f-dfc1-e9da9af9043d"
      },
      "execution_count": null,
      "outputs": [
        {
          "output_type": "error",
          "ename": "RecursionError",
          "evalue": "ignored",
          "traceback": [
            "\u001b[0;31m---------------------------------------------------------------------------\u001b[0m",
            "\u001b[0;31mRecursionError\u001b[0m                            Traceback (most recent call last)",
            "\u001b[0;32m<ipython-input-13-a675e7a34848>\u001b[0m in \u001b[0;36m<cell line: 3>\u001b[0;34m()\u001b[0m\n\u001b[1;32m      1\u001b[0m \u001b[0;32mdef\u001b[0m \u001b[0mrecyrs\u001b[0m\u001b[0;34m(\u001b[0m\u001b[0mn\u001b[0m\u001b[0;34m)\u001b[0m\u001b[0;34m:\u001b[0m\u001b[0;34m\u001b[0m\u001b[0;34m\u001b[0m\u001b[0m\n\u001b[1;32m      2\u001b[0m     \u001b[0;32mreturn\u001b[0m \u001b[0;34m(\u001b[0m\u001b[0mn\u001b[0m \u001b[0;34m+\u001b[0m \u001b[0mrecyrs\u001b[0m\u001b[0;34m(\u001b[0m\u001b[0mn\u001b[0m\u001b[0;34m-\u001b[0m\u001b[0;36m1\u001b[0m\u001b[0;34m)\u001b[0m\u001b[0;34m)\u001b[0m\u001b[0;34m\u001b[0m\u001b[0;34m\u001b[0m\u001b[0m\n\u001b[0;32m----> 3\u001b[0;31m \u001b[0mprint\u001b[0m\u001b[0;34m(\u001b[0m\u001b[0mrecyrs\u001b[0m\u001b[0;34m(\u001b[0m\u001b[0;36m5\u001b[0m\u001b[0;34m)\u001b[0m\u001b[0;34m)\u001b[0m\u001b[0;34m\u001b[0m\u001b[0;34m\u001b[0m\u001b[0m\n\u001b[0m",
            "\u001b[0;32m<ipython-input-13-a675e7a34848>\u001b[0m in \u001b[0;36mrecyrs\u001b[0;34m(n)\u001b[0m\n\u001b[1;32m      1\u001b[0m \u001b[0;32mdef\u001b[0m \u001b[0mrecyrs\u001b[0m\u001b[0;34m(\u001b[0m\u001b[0mn\u001b[0m\u001b[0;34m)\u001b[0m\u001b[0;34m:\u001b[0m\u001b[0;34m\u001b[0m\u001b[0;34m\u001b[0m\u001b[0m\n\u001b[0;32m----> 2\u001b[0;31m     \u001b[0;32mreturn\u001b[0m \u001b[0;34m(\u001b[0m\u001b[0mn\u001b[0m \u001b[0;34m+\u001b[0m \u001b[0mrecyrs\u001b[0m\u001b[0;34m(\u001b[0m\u001b[0mn\u001b[0m\u001b[0;34m-\u001b[0m\u001b[0;36m1\u001b[0m\u001b[0;34m)\u001b[0m\u001b[0;34m)\u001b[0m\u001b[0;34m\u001b[0m\u001b[0;34m\u001b[0m\u001b[0m\n\u001b[0m\u001b[1;32m      3\u001b[0m \u001b[0mprint\u001b[0m\u001b[0;34m(\u001b[0m\u001b[0mrecyrs\u001b[0m\u001b[0;34m(\u001b[0m\u001b[0;36m5\u001b[0m\u001b[0;34m)\u001b[0m\u001b[0;34m)\u001b[0m\u001b[0;34m\u001b[0m\u001b[0;34m\u001b[0m\u001b[0m\n",
            "... last 1 frames repeated, from the frame below ...\n",
            "\u001b[0;32m<ipython-input-13-a675e7a34848>\u001b[0m in \u001b[0;36mrecyrs\u001b[0;34m(n)\u001b[0m\n\u001b[1;32m      1\u001b[0m \u001b[0;32mdef\u001b[0m \u001b[0mrecyrs\u001b[0m\u001b[0;34m(\u001b[0m\u001b[0mn\u001b[0m\u001b[0;34m)\u001b[0m\u001b[0;34m:\u001b[0m\u001b[0;34m\u001b[0m\u001b[0;34m\u001b[0m\u001b[0m\n\u001b[0;32m----> 2\u001b[0;31m     \u001b[0;32mreturn\u001b[0m \u001b[0;34m(\u001b[0m\u001b[0mn\u001b[0m \u001b[0;34m+\u001b[0m \u001b[0mrecyrs\u001b[0m\u001b[0;34m(\u001b[0m\u001b[0mn\u001b[0m\u001b[0;34m-\u001b[0m\u001b[0;36m1\u001b[0m\u001b[0;34m)\u001b[0m\u001b[0;34m)\u001b[0m\u001b[0;34m\u001b[0m\u001b[0;34m\u001b[0m\u001b[0m\n\u001b[0m\u001b[1;32m      3\u001b[0m \u001b[0mprint\u001b[0m\u001b[0;34m(\u001b[0m\u001b[0mrecyrs\u001b[0m\u001b[0;34m(\u001b[0m\u001b[0;36m5\u001b[0m\u001b[0;34m)\u001b[0m\u001b[0;34m)\u001b[0m\u001b[0;34m\u001b[0m\u001b[0;34m\u001b[0m\u001b[0m\n",
            "\u001b[0;31mRecursionError\u001b[0m: maximum recursion depth exceeded"
          ]
        }
      ]
    },
    {
      "cell_type": "markdown",
      "source": [
        "#b)\tsum(n) = n + sum(n-1) – задать условие остановки, когда функция дойдет до 1"
      ],
      "metadata": {
        "id": "rd5o7RBI9Gym"
      }
    },
    {
      "cell_type": "code",
      "source": [
        "def recyrs(n):\n",
        "    if n == 1:\n",
        "        return 1\n",
        "    else:\n",
        "        return n + recyrs(n-1)\n",
        "print(recyrs(5))"
      ],
      "metadata": {
        "colab": {
          "base_uri": "https://localhost:8080/"
        },
        "id": "3wB-UieP86bB",
        "outputId": "a0b0bc19-fda8-4477-d289-da6ee1593962"
      },
      "execution_count": null,
      "outputs": [
        {
          "output_type": "stream",
          "name": "stdout",
          "text": [
            "15\n"
          ]
        }
      ]
    },
    {
      "cell_type": "markdown",
      "source": [
        "#c) расчет факториала числа (n вводится с экрана, не более 10)"
      ],
      "metadata": {
        "id": "7A89voI29YrX"
      }
    },
    {
      "cell_type": "code",
      "source": [
        "def fact(n):\n",
        "    if n == 0:\n",
        "        return 1\n",
        "    return fact(n-1) * n\n",
        "number = int(input(\"Введите число:\"))\n",
        "if number > 10:\n",
        "    print(\"Число больше 10, введите число меньше 10\")\n",
        "else:\n",
        "    print(fact(number))"
      ],
      "metadata": {
        "colab": {
          "base_uri": "https://localhost:8080/"
        },
        "id": "uibqjv2W6Y86",
        "outputId": "562fc97e-90f9-4cea-e6d7-a1282ab2e78c"
      },
      "execution_count": null,
      "outputs": [
        {
          "output_type": "stream",
          "name": "stdout",
          "text": [
            "Введите число:3\n",
            "6\n"
          ]
        }
      ]
    },
    {
      "cell_type": "markdown",
      "source": [
        "#Ханойская башня(n от 3 до 5)"
      ],
      "metadata": {
        "id": "efz-VcJA9ki5"
      }
    },
    {
      "cell_type": "code",
      "source": [
        "def hanoi(n, source, target, auxiliary):\n",
        "    if n == 1:\n",
        "        print(f\"Переместить диск {n} со стержня {source} на стержень {target}\")\n",
        "    else:\n",
        "        hanoi(n-1, source, auxiliary, target)\n",
        "        print(f\"Переместить диск {n} со стержня {source} на стержень {target}\")\n",
        "        hanoi(n-1, auxiliary, target, source)"
      ],
      "metadata": {
        "id": "SsWjja416ZHe"
      },
      "execution_count": null,
      "outputs": []
    },
    {
      "cell_type": "code",
      "source": [
        "hanoi(3, 'A', 'C', 'B')"
      ],
      "metadata": {
        "colab": {
          "base_uri": "https://localhost:8080/"
        },
        "id": "9YVxMYRY6ZJw",
        "outputId": "63bccd64-b346-442d-de97-5021ba99b4ad"
      },
      "execution_count": null,
      "outputs": [
        {
          "output_type": "stream",
          "name": "stdout",
          "text": [
            "Переместить диск 1 со стержня A на стержень C\n",
            "Переместить диск 2 со стержня A на стержень B\n",
            "Переместить диск 1 со стержня C на стержень B\n",
            "Переместить диск 3 со стержня A на стержень C\n",
            "Переместить диск 1 со стержня B на стержень A\n",
            "Переместить диск 2 со стержня B на стержень C\n",
            "Переместить диск 1 со стержня A на стержень C\n"
          ]
        }
      ]
    },
    {
      "cell_type": "code",
      "source": [
        "hanoi(4, 'A', 'C', 'B')"
      ],
      "metadata": {
        "colab": {
          "base_uri": "https://localhost:8080/"
        },
        "id": "qaZDXFbA6ZML",
        "outputId": "fca8ff86-e54a-46be-df5e-e4399a2f0ac6"
      },
      "execution_count": null,
      "outputs": [
        {
          "output_type": "stream",
          "name": "stdout",
          "text": [
            "Переместить диск 1 со стержня A на стержень B\n",
            "Переместить диск 2 со стержня A на стержень C\n",
            "Переместить диск 1 со стержня B на стержень C\n",
            "Переместить диск 3 со стержня A на стержень B\n",
            "Переместить диск 1 со стержня C на стержень A\n",
            "Переместить диск 2 со стержня C на стержень B\n",
            "Переместить диск 1 со стержня A на стержень B\n",
            "Переместить диск 4 со стержня A на стержень C\n",
            "Переместить диск 1 со стержня B на стержень C\n",
            "Переместить диск 2 со стержня B на стержень A\n",
            "Переместить диск 1 со стержня C на стержень A\n",
            "Переместить диск 3 со стержня B на стержень C\n",
            "Переместить диск 1 со стержня A на стержень B\n",
            "Переместить диск 2 со стержня A на стержень C\n",
            "Переместить диск 1 со стержня B на стержень C\n"
          ]
        }
      ]
    },
    {
      "cell_type": "code",
      "source": [
        "hanoi(5, 'A', 'C', 'B')"
      ],
      "metadata": {
        "colab": {
          "base_uri": "https://localhost:8080/"
        },
        "id": "N6CDccCE6ZOq",
        "outputId": "7d8c5d94-3263-4b80-9c76-6835fc24b4a5"
      },
      "execution_count": null,
      "outputs": [
        {
          "output_type": "stream",
          "name": "stdout",
          "text": [
            "Переместить диск 1 со стержня A на стержень C\n",
            "Переместить диск 2 со стержня A на стержень B\n",
            "Переместить диск 1 со стержня C на стержень B\n",
            "Переместить диск 3 со стержня A на стержень C\n",
            "Переместить диск 1 со стержня B на стержень A\n",
            "Переместить диск 2 со стержня B на стержень C\n",
            "Переместить диск 1 со стержня A на стержень C\n",
            "Переместить диск 4 со стержня A на стержень B\n",
            "Переместить диск 1 со стержня C на стержень B\n",
            "Переместить диск 2 со стержня C на стержень A\n",
            "Переместить диск 1 со стержня B на стержень A\n",
            "Переместить диск 3 со стержня C на стержень B\n",
            "Переместить диск 1 со стержня A на стержень C\n",
            "Переместить диск 2 со стержня A на стержень B\n",
            "Переместить диск 1 со стержня C на стержень B\n",
            "Переместить диск 5 со стержня A на стержень C\n",
            "Переместить диск 1 со стержня B на стержень A\n",
            "Переместить диск 2 со стержня B на стержень C\n",
            "Переместить диск 1 со стержня A на стержень C\n",
            "Переместить диск 3 со стержня B на стержень A\n",
            "Переместить диск 1 со стержня C на стержень B\n",
            "Переместить диск 2 со стержня C на стержень A\n",
            "Переместить диск 1 со стержня B на стержень A\n",
            "Переместить диск 4 со стержня B на стержень C\n",
            "Переместить диск 1 со стержня A на стержень C\n",
            "Переместить диск 2 со стержня A на стержень B\n",
            "Переместить диск 1 со стержня C на стержень B\n",
            "Переместить диск 3 со стержня A на стержень C\n",
            "Переместить диск 1 со стержня B на стержень A\n",
            "Переместить диск 2 со стержня B на стержень C\n",
            "Переместить диск 1 со стержня A на стержень C\n"
          ]
        }
      ]
    },
    {
      "cell_type": "code",
      "source": [],
      "metadata": {
        "id": "InqF2_ID6ZSM"
      },
      "execution_count": null,
      "outputs": []
    }
  ]
}